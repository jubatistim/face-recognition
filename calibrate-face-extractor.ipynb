{
 "cells": [
  {
   "cell_type": "code",
   "execution_count": 1,
   "metadata": {},
   "outputs": [],
   "source": [
    "import cv2 as cv\n",
    "import numpy as np"
   ]
  },
  {
   "cell_type": "code",
   "execution_count": 2,
   "metadata": {},
   "outputs": [],
   "source": [
    "face_cascade = cv.CascadeClassifier('./cascades/haarcascade_frontalface_default.xml')"
   ]
  },
  {
   "cell_type": "code",
   "execution_count": 3,
   "metadata": {},
   "outputs": [],
   "source": [
    "img = cv.imread('./photo-class-images-conv/Batch 2 - Parque do Povo/a (3).jpg')\n",
    "#img = cv.imread('./photo-class-images-conv/Batch01 - Borboletario/aaa (1).jpg')\n",
    "img = cv.resize(img, (int(img.shape[1]/4), int(img.shape[0]/4)))\n",
    "img_or = img.copy()"
   ]
  },
  {
   "cell_type": "code",
   "execution_count": 4,
   "metadata": {},
   "outputs": [],
   "source": [
    "def check_changes(x):\n",
    "    global img\n",
    "    global img_or\n",
    "    \n",
    "    param1 = cv.getTrackbarPos('param1', 'image')\n",
    "    param2 = cv.getTrackbarPos('param2', 'image')\n",
    "    \n",
    "    gray = cv.cvtColor(img, cv.COLOR_BGR2GRAY)\n",
    "    faces = face_cascade.detectMultiScale(gray, float(param1+(param1/10)), param2) # 1.1 and 2 seems good\n",
    "    \n",
    "    img = img_or.copy()\n",
    "    \n",
    "    for (x, y, w, h) in faces:\n",
    "        img = cv.rectangle(img, (x,y), (x+w, y+h), (0,0,255), 2)\n",
    "        \n",
    "    cv.imshow('image', img)"
   ]
  },
  {
   "cell_type": "code",
   "execution_count": 5,
   "metadata": {},
   "outputs": [],
   "source": [
    "cv.namedWindow('image')\n",
    "cv.createTrackbar('param1', 'image', 1, 9, check_changes)\n",
    "cv.createTrackbar('param2', 'image', 0, 10, check_changes)"
   ]
  },
  {
   "cell_type": "code",
   "execution_count": 6,
   "metadata": {},
   "outputs": [
    {
     "data": {
      "text/plain": [
       "27"
      ]
     },
     "execution_count": 6,
     "metadata": {},
     "output_type": "execute_result"
    }
   ],
   "source": [
    "cv.imshow('image', img)\n",
    "cv.waitKey(0)"
   ]
  },
  {
   "cell_type": "code",
   "execution_count": 7,
   "metadata": {},
   "outputs": [],
   "source": [
    "cv.destroyAllWindows()"
   ]
  },
  {
   "cell_type": "code",
   "execution_count": null,
   "metadata": {},
   "outputs": [],
   "source": []
  }
 ],
 "metadata": {
  "kernelspec": {
   "display_name": "venv37",
   "language": "python",
   "name": "venv37"
  },
  "language_info": {
   "codemirror_mode": {
    "name": "ipython",
    "version": 3
   },
   "file_extension": ".py",
   "mimetype": "text/x-python",
   "name": "python",
   "nbconvert_exporter": "python",
   "pygments_lexer": "ipython3",
   "version": "3.7.8"
  }
 },
 "nbformat": 4,
 "nbformat_minor": 4
}
