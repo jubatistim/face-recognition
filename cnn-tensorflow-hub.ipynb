{
 "cells": [
  {
   "cell_type": "code",
   "execution_count": 1,
   "metadata": {},
   "outputs": [
    {
     "name": "stdout",
     "output_type": "stream",
     "text": [
      "Num GPUs Available:  1\n"
     ]
    }
   ],
   "source": [
    "import tensorflow as tf\n",
    "\n",
    "# print('****************************************************')\n",
    "# print(tf.__version__)\n",
    "# print('****************************************************')\n",
    "\n",
    "physical_devices = tf.config.experimental.list_physical_devices('GPU')\n",
    "print(\"Num GPUs Available: \", len(physical_devices))\n",
    "tf.config.experimental.set_memory_growth(physical_devices[0], True)"
   ]
  },
  {
   "cell_type": "code",
   "execution_count": 2,
   "metadata": {},
   "outputs": [],
   "source": [
    "from tensorflow import keras\n",
    "from tensorflow.keras import layers\n",
    "\n",
    "import tensorflow_hub as hub\n",
    "\n",
    "base_model = hub.KerasLayer(\"https://tfhub.dev/google/bit/m-r50x3/1\", input_shape=(256,256,3))\n",
    "\n",
    "model = keras.Sequential([\n",
    "    # layers.Conv2D(filters=64, kernel_size=3, padding=\"same\", activation=\"relu\", input_shape=[256, 256, 3]),\n",
    "    # layers.MaxPool2D(pool_size=4, strides=2, padding='valid'),\n",
    "    # layers.Conv2D(filters=32, kernel_size=3, padding=\"same\", activation=\"relu\"),\n",
    "    # layers.MaxPool2D(pool_size=2, strides=2, padding='valid'),\n",
    "    # layers.Flatten(),\n",
    "    base_model,\n",
    "    # layers.Dense(units=256, activation='relu'),\n",
    "    # layers.Dense(units=128, activation='relu'),\n",
    "    layers.Dense(units=2, activation='softmax')\n",
    "])"
   ]
  },
  {
   "cell_type": "code",
   "execution_count": 3,
   "metadata": {},
   "outputs": [
    {
     "name": "stdout",
     "output_type": "stream",
     "text": [
      "Model: \"sequential\"\n",
      "_________________________________________________________________\n",
      "Layer (type)                 Output Shape              Param #   \n",
      "=================================================================\n",
      "keras_layer (KerasLayer)     (None, 6144)              211174080 \n",
      "_________________________________________________________________\n",
      "dense (Dense)                (None, 2)                 12290     \n",
      "=================================================================\n",
      "Total params: 211,186,370\n",
      "Trainable params: 12,290\n",
      "Non-trainable params: 211,174,080\n",
      "_________________________________________________________________\n"
     ]
    }
   ],
   "source": [
    "model.summary()"
   ]
  },
  {
   "cell_type": "code",
   "execution_count": 4,
   "metadata": {},
   "outputs": [],
   "source": [
    "model.compile(\n",
    "    optimizer=keras.optimizers.Adam(),\n",
    "    # loss = keras.losses.BinaryCrossentropy(),\n",
    "    loss = keras.losses.SparseCategoricalCrossentropy(), # when use 2 neurons and softmax at output it seems to work better\n",
    "    metrics=[\"accuracy\"]\n",
    ")"
   ]
  },
  {
   "cell_type": "code",
   "execution_count": 5,
   "metadata": {},
   "outputs": [
    {
     "name": "stdout",
     "output_type": "stream",
     "text": [
      "Found 2228 images belonging to 2 classes.\n",
      "Found 100 images belonging to 2 classes.\n"
     ]
    }
   ],
   "source": [
    "from tensorflow.keras.preprocessing.image import ImageDataGenerator\n",
    "\n",
    "train_datagen = ImageDataGenerator(rescale = 1./255,\n",
    "                                   shear_range = 0.2,\n",
    "                                   zoom_range = 0.2,\n",
    "                                   horizontal_flip = True)\n",
    "\n",
    "validation_datagen = ImageDataGenerator(rescale = 1./255)\n",
    "\n",
    "training_set = train_datagen.flow_from_directory('CNN/train',\n",
    "                                                 target_size = (256, 256),\n",
    "                                                 batch_size = 32,\n",
    "                                                 class_mode = 'binary')\n",
    "\n",
    "validation_set = validation_datagen.flow_from_directory('CNN/validation',\n",
    "                                            target_size = (256, 256),\n",
    "                                            batch_size = 32,\n",
    "                                            class_mode = 'binary')"
   ]
  },
  {
   "cell_type": "code",
   "execution_count": 6,
   "metadata": {},
   "outputs": [
    {
     "name": "stdout",
     "output_type": "stream",
     "text": [
      "Epoch 1/10\n",
      "70/70 - 125s - loss: 0.1623 - accuracy: 0.9632 - val_loss: 0.0056 - val_accuracy: 1.0000\n",
      "Epoch 2/10\n",
      "70/70 - 122s - loss: 0.0128 - accuracy: 0.9982 - val_loss: 0.0013 - val_accuracy: 1.0000\n",
      "Epoch 3/10\n",
      "70/70 - 122s - loss: 0.0149 - accuracy: 0.9969 - val_loss: 5.3703e-04 - val_accuracy: 1.0000\n",
      "Epoch 4/10\n",
      "70/70 - 122s - loss: 0.0052 - accuracy: 0.9996 - val_loss: 0.0052 - val_accuracy: 1.0000\n",
      "Epoch 5/10\n",
      "70/70 - 123s - loss: 0.0077 - accuracy: 0.9987 - val_loss: 0.0086 - val_accuracy: 1.0000\n",
      "Epoch 6/10\n",
      "70/70 - 123s - loss: 0.0056 - accuracy: 0.9987 - val_loss: 0.0662 - val_accuracy: 0.9700\n",
      "Epoch 7/10\n",
      "70/70 - 123s - loss: 0.0049 - accuracy: 0.9987 - val_loss: 0.0027 - val_accuracy: 1.0000\n",
      "Epoch 8/10\n",
      "70/70 - 123s - loss: 0.0029 - accuracy: 0.9987 - val_loss: 0.0206 - val_accuracy: 0.9900\n",
      "Epoch 9/10\n",
      "70/70 - 123s - loss: 0.0042 - accuracy: 0.9987 - val_loss: 0.0864 - val_accuracy: 0.9700\n",
      "Epoch 10/10\n",
      "70/70 - 123s - loss: 0.0066 - accuracy: 0.9978 - val_loss: 0.0077 - val_accuracy: 1.0000\n"
     ]
    }
   ],
   "source": [
    "history = model.fit(x=training_set, validation_data = validation_set, epochs=10, verbose=2)"
   ]
  },
  {
   "cell_type": "code",
   "execution_count": 7,
   "metadata": {},
   "outputs": [
    {
     "data": {
      "image/png": "[encoded data removed]",
      "text/plain": [
       "<Figure size 432x288 with 1 Axes>"
      ]
     },
     "metadata": {
      "needs_background": "light"
     },
     "output_type": "display_data"
    }
   ],
   "source": [
    "import matplotlib.pyplot as plt\n",
    "\n",
    "# summarize history for accuracy\n",
    "plt.plot(history.history['accuracy'])\n",
    "# plt.plot(history.history['val_accuracy'])\n",
    "plt.title('model accuracy')\n",
    "plt.ylabel('accuracy')\n",
    "plt.xlabel('epoch')\n",
    "# plt.legend(['train', 'test'], loc='upper left')\n",
    "plt.legend(['train'], loc='upper left')\n",
    "plt.show()"
   ]
  },
  {
   "cell_type": "code",
   "execution_count": 8,
   "metadata": {},
   "outputs": [
    {
     "data": {
      "image/png": "[encoded data removed]",
      "text/plain": [
       "<Figure size 432x288 with 1 Axes>"
      ]
     },
     "metadata": {
      "needs_background": "light"
     },
     "output_type": "display_data"
    }
   ],
   "source": [
    "# summarize history for loss\n",
    "plt.plot(history.history['loss'])\n",
    "# plt.plot(history.history['val_loss'])\n",
    "plt.title('model loss')\n",
    "plt.ylabel('loss')\n",
    "plt.xlabel('epoch')\n",
    "# plt.legend(['train', 'test'], loc='upper left')\n",
    "plt.legend(['train'], loc='upper left')\n",
    "plt.show()"
   ]
  },
  {
   "cell_type": "code",
   "execution_count": null,
   "metadata": {},
   "outputs": [],
   "source": []
  }
 ],
 "metadata": {
  "kernelspec": {
   "display_name": "venv37",
   "language": "python",
   "name": "venv37"
  },
  "language_info": {
   "codemirror_mode": {
    "name": "ipython",
    "version": 3
   },
   "file_extension": ".py",
   "mimetype": "text/x-python",
   "name": "python",
   "nbconvert_exporter": "python",
   "pygments_lexer": "ipython3",
   "version": "3.7.8"
  }
 },
 "nbformat": 4,
 "nbformat_minor": 4
}
